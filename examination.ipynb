{
 "cells": [
  {
   "cell_type": "markdown",
   "metadata": {},
   "source": [
    "## How To Use This Notebook\n",
    "\n",
    "You only need to change the `frequency_diff` parameter to generate your desired binaural beat. For example set it to `40` for 40Hz binaural beats.\n",
    "You may also adjust the value in `duration` to make the sample audio shorter or longer. The default value is for 15 minutes."
   ]
  },
  {
   "cell_type": "code",
   "execution_count": null,
   "metadata": {},
   "outputs": [],
   "source": [
    "import numpy as np\n",
    "\n",
    "# Parameters\n",
    "frequency_diff = 40  # Difference between left and right frequencies (binaural beat frequency)\n",
    "duration = 15*60  # Duration in seconds\n",
    "sample_rate = 44100  # Samples per second\n",
    "frequency_base = 1000  # Base frequency in Hz\n",
    "\n",
    "# Generate time array\n",
    "t = np.linspace(0, duration, int(sample_rate * duration), endpoint=False)\n",
    "\n",
    "# Generate left and right audio signals\n",
    "left_wave = np.sin(2 * np.pi * frequency_base * t)\n",
    "right_wave = np.sin(2 * np.pi * (frequency_base + frequency_diff) * t)"
   ]
  },
  {
   "cell_type": "markdown",
   "metadata": {},
   "source": [
    "## Graphing\n",
    "\n",
    "Here we help you create a graph showing how the difference between left and right wave produce the desired effect. Note that this effect is easier to see for higher frequencies."
   ]
  },
  {
   "cell_type": "code",
   "execution_count": null,
   "metadata": {},
   "outputs": [],
   "source": [
    "import matplotlib.pyplot as plt\n",
    "\n",
    "fig, ((ax11, ax12), (ax21, ax22)) = plt.subplots(2, 2, figsize=(10, 8))\n",
    "\n",
    "sample_size = int(sample_rate * 0.1) #Sample size for graphing differences.\n",
    "sample_fraction = 10 #Fraction of above sample size for graphing pure beats.\n",
    "\n",
    "\n",
    "diff = left_wave - right_wave #Gets the difference array between left and right wave.\n",
    "\n",
    "# Sampling from each of the arrays to reduce the datapoints.\n",
    "# We only need the first few milliseconds worth of data to show the effects.\n",
    "t_sample = t[:sample_size]\n",
    "left_sample = left_wave[:int(sample_size/sample_fraction)]\n",
    "right_sample = right_wave[:int(sample_size/sample_fraction)]\n",
    "diff_sample = diff[:sample_size]\n",
    "\n",
    "ax11.scatter(x=range(sample_size), y=t_sample)\n",
    "ax11.set_title(\"Original Sample\")\n",
    "\n",
    "ax12.scatter(x=range(int(sample_size/sample_fraction)), y=left_sample)\n",
    "ax12.set_title(\"Left Wave\")\n",
    "\n",
    "ax21.scatter(x=range(int(sample_size/sample_fraction)), y=right_sample)\n",
    "ax21.set_title(\"Right Wave\")\n",
    "\n",
    "ax22.plot(t_sample, diff_sample)\n",
    "ax22.set_title(\"Difference between left and right\")\n"
   ]
  }
 ],
 "metadata": {
  "kernelspec": {
   "display_name": "temp",
   "language": "python",
   "name": "python3"
  },
  "language_info": {
   "codemirror_mode": {
    "name": "ipython",
    "version": 3
   },
   "file_extension": ".py",
   "mimetype": "text/x-python",
   "name": "python",
   "nbconvert_exporter": "python",
   "pygments_lexer": "ipython3",
   "version": "3.11.10"
  }
 },
 "nbformat": 4,
 "nbformat_minor": 2
}
